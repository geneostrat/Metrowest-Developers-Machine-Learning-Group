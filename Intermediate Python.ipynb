{
 "cells": [
  {
   "cell_type": "markdown",
   "metadata": {},
   "source": [
    "# Intermediate Python"
   ]
  },
  {
   "cell_type": "markdown",
   "metadata": {},
   "source": [
    "\n",
    "abstract base class\n",
    "\n",
    "multiple inheritance\n",
    " - diamond of uncertainty \n",
    " \n",
    "collection methods\n",
    "\n",
    "interfaces\n",
    "file IO, sockets, other libraries\n",
    "\n",
    "Python is dynamically strongly typed\n",
    "duck typing- we don't actually check to see if it actually IS a duck, but rather ACTS like a duck\n",
    "\n",
    "c-wrapper"
   ]
  },
  {
   "cell_type": "code",
   "execution_count": 1,
   "metadata": {},
   "outputs": [
    {
     "ename": "TypeError",
     "evalue": "Can't instantiate abstract class MyAbstractClass with abstract methods my_abstract_method, my_abstract_method2",
     "output_type": "error",
     "traceback": [
      "\u001b[1;31m---------------------------------------------------------------------------\u001b[0m",
      "\u001b[1;31mTypeError\u001b[0m                                 Traceback (most recent call last)",
      "\u001b[1;32m<ipython-input-1-09f12be7412d>\u001b[0m in \u001b[0;36m<module>\u001b[1;34m()\u001b[0m\n\u001b[0;32m     14\u001b[0m       \u001b[1;32mpass\u001b[0m                                        \u001b[1;31m# NOP\u001b[0m\u001b[1;33m\u001b[0m\u001b[0m\n\u001b[0;32m     15\u001b[0m \u001b[1;33m\u001b[0m\u001b[0m\n\u001b[1;32m---> 16\u001b[1;33m \u001b[0mmy_class\u001b[0m \u001b[1;33m=\u001b[0m \u001b[0mMyAbstractClass\u001b[0m\u001b[1;33m(\u001b[0m\u001b[1;33m)\u001b[0m\u001b[1;33m\u001b[0m\u001b[0m\n\u001b[0m",
      "\u001b[1;31mTypeError\u001b[0m: Can't instantiate abstract class MyAbstractClass with abstract methods my_abstract_method, my_abstract_method2"
     ]
    }
   ],
   "source": [
    "# IPY-ABC1\n",
    "# define an abstract base class\n",
    "# attempt to instantiate the ABC raises and exception... as expected.\n",
    "\n",
    "import abc  # Abstract Base Class\n",
    "\n",
    "class MyAbstractClass(metaclass=abc.ABCMeta):    # metaclass is the secret sauce\n",
    "\n",
    "  @abc.abstractmethod\n",
    "  def my_abstract_method(self):                  # default implementation\n",
    "      return                                     # return nothing\n",
    "\n",
    "  @abc.abstractmethod\n",
    "  def my_abstract_method2(self):                  # default implementation\n",
    "      pass                                        # NOP\n",
    "\n",
    "my_class = MyAbstractClass()"
   ]
  },
  {
   "cell_type": "code",
   "execution_count": 58,
   "metadata": {},
   "outputs": [
    {
     "ename": "TypeError",
     "evalue": "Can't instantiate abstract class MyConcreteClass with abstract methods my_abstract_method",
     "output_type": "error",
     "traceback": [
      "\u001b[1;31m---------------------------------------------------------------------------\u001b[0m",
      "\u001b[1;31mTypeError\u001b[0m                                 Traceback (most recent call last)",
      "\u001b[1;32m<ipython-input-58-fb01dedbcf11>\u001b[0m in \u001b[0;36m<module>\u001b[1;34m()\u001b[0m\n\u001b[0;32m     14\u001b[0m         \u001b[0mMyAbstractClass\u001b[0m\u001b[1;33m.\u001b[0m\u001b[0m__init__\u001b[0m\u001b[1;33m(\u001b[0m\u001b[0mself\u001b[0m\u001b[1;33m)\u001b[0m\u001b[1;33m\u001b[0m\u001b[0m\n\u001b[0;32m     15\u001b[0m \u001b[1;33m\u001b[0m\u001b[0m\n\u001b[1;32m---> 16\u001b[1;33m \u001b[0ma_concrete_class_instance\u001b[0m \u001b[1;33m=\u001b[0m \u001b[0mMyConcreteClass\u001b[0m\u001b[1;33m(\u001b[0m\u001b[1;34m'this is my data'\u001b[0m\u001b[1;33m)\u001b[0m\u001b[1;33m\u001b[0m\u001b[0m\n\u001b[0m",
      "\u001b[1;31mTypeError\u001b[0m: Can't instantiate abstract class MyConcreteClass with abstract methods my_abstract_method"
     ]
    }
   ],
   "source": [
    "# IPY-ABC2\n",
    "# define an abstract base class\n",
    "# define a derived class\n",
    "# attempt to instantiate the DERIVED class fails... because the abstract method is not defined, as expected.\n",
    "\n",
    "import abc  # Abstract Base Class\n",
    "\n",
    "class MyAbstractClass(metaclass=abc.ABCMeta):    # metaclass is the secret sauce\n",
    "\n",
    "    @abc.abstractmethod\n",
    "    def my_abstract_method(self):                # default implementation\n",
    "        return\n",
    "\n",
    "class MyConcreteClass(MyAbstractClass):\n",
    "    def __init__(self, some_data):\n",
    "        MyAbstractClass.__init__(self)    \n",
    "        \n",
    "a_concrete_class_instance = MyConcreteClass('this is my data')"
   ]
  },
  {
   "cell_type": "code",
   "execution_count": 59,
   "metadata": {},
   "outputs": [
    {
     "name": "stdout",
     "output_type": "stream",
     "text": [
      "finally this is defined\n"
     ]
    }
   ],
   "source": [
    "# IPY-ABC3\n",
    "# define an abstract base class\n",
    "# provide an implementation for the abstract base class method\n",
    "\n",
    "import abc  # Abstract Base Class\n",
    "\n",
    "class MyAbstractClass(metaclass=abc.ABCMeta):    # metaclass is the secret sauce\n",
    "\n",
    "    @abc.abstractmethod\n",
    "    def my_abstract_method(self):                  # default implementation\n",
    "        return\n",
    "\n",
    "class MyConcreteClass(MyAbstractClass):\n",
    "    def __init__(self, some_data):\n",
    "        MyAbstractClass.__init__(self) \n",
    "\n",
    "    def my_abstract_method(self):                  # class implementation\n",
    "        print('finally this is defined')\n",
    "        return        \n",
    "        \n",
    "a_concrete_class_instance = MyConcreteClass('this is my data')\n",
    "a_concrete_class_instance.my_abstract_method()\n"
   ]
  },
  {
   "cell_type": "code",
   "execution_count": 2,
   "metadata": {},
   "outputs": [
    {
     "name": "stdout",
     "output_type": "stream",
     "text": [
      "data: 1111010001\n",
      "use transmit with command 'config'\n",
      "name:  voyager\n",
      "power_source:  atomic\n",
      "power_status: operational\n"
     ]
    }
   ],
   "source": [
    "# IPY-DCL1\n",
    "# subclass example with overridden method which calls the base class\n",
    "\n",
    "import random\n",
    "\n",
    "# define the base class\n",
    "class Spacecraft(object) :                          # colon establishes scope for class\n",
    "    def __init__(self, name, power_source):         # colon establishes scope for constructor\n",
    "        self.name = name\n",
    "        self.power_source = power_source        \n",
    "    def craft_configuration(self):                  # colon establishes scope for function\n",
    "        print(\"name: \", self.name)\n",
    "        print(\"power_source: \", self.power_source)\n",
    "        print(\"power_status: operational\")\n",
    "        return\n",
    "\n",
    "#define a derived class\n",
    "class Voyager(Spacecraft):                                # colon establishes scope for class\n",
    "    def __init__(self, name, power_source, power_usage):  # colon establishes scope for constructor\n",
    "        Spacecraft.__init__(self,name, power_source)      # call base object's constructor\n",
    "        Spacecraft.name = name\n",
    "        Spacecraft.power_source = power_source\n",
    "        self.power_usage = power_usage                    # colon establishes scope for function\n",
    "    def craft_configuration(self):                        # colon establishes scope for function\n",
    "        print(\"use transmit with command 'config'\")\n",
    "    def transmit(self, command):\n",
    "        self.last_command = command\n",
    "        if (command == 'config'):\n",
    "            super(Voyager, self).craft_configuration();   # call the base class implementation \n",
    "        else :\n",
    "            random.seed(17)\n",
    "            print (\"data: \", end=\"\")                          \n",
    "            for x in range(10):                           # colon establishes scope for loop            \n",
    "                print(random.randint(0,1), end=\"\")        # end=\"\" allows next print to appear on same line\n",
    "            print(\"\")\n",
    "        return\n",
    "    \n",
    "my_voyager = Voyager(\"voyager\", \"atomic\", \"15W\")       # create a spacecraft instance\n",
    "my_voyager.transmit(\"magnatometer\")                    # transmit instrument data\n",
    "my_voyager.craft_configuration()                       # call overridden command\n",
    "my_voyager.transmit(\"config\")                          # command defers to the base class"
   ]
  },
  {
   "cell_type": "code",
   "execution_count": 41,
   "metadata": {},
   "outputs": [
    {
     "name": "stdout",
     "output_type": "stream",
     "text": [
      "Simple Window [ 97126776 ]\n",
      "Window named:  Simple Window is visible\n",
      "Sizeable Window [ 97127112 ]\n",
      "Window named:  Sizeable Window is visible\n",
      "Window named:  Sizeable Window is resized\n",
      "Editable Window [ 97124648 ]\n",
      "Window named:  Editable Window is visible\n",
      "Window named:  Editable Window text changed\n",
      "size and edit [ 97127000 ]\n",
      "Window named:  size and edit is visible\n"
     ]
    }
   ],
   "source": [
    "# IPY-MI1\n",
    "# multiple-inheritance-diamond-death-problem\n",
    "# python doesn't seem to have any issues!\n",
    "\n",
    "class Window(object):\n",
    "    __is_visible = False\n",
    "    def __init__(self, title, x_pos, y_pos):\n",
    "        self.title = title\n",
    "        self.x_pos = x_pos\n",
    "        self.y_pos = y_pos\n",
    "    def show(self, is_visible):\n",
    "        print(self.title, '[',id(self),']')\n",
    "        __is_visible = is_visible    \n",
    "        print(\"Window named: \",self.title, \"is \", end=\"\")\n",
    "        if is_visible == True: \n",
    "            print(\"visible\")\n",
    "        else: \n",
    "            print(\"hidden\")\n",
    "\n",
    "my_simple_window = Window(\"Simple Window\", 100,150)\n",
    "my_simple_window.show(True)  \n",
    "\n",
    "class Sizeable(Window):   \n",
    "    def __init__(self, title, x_pos, y_pos, width, height):\n",
    "        Window.__init__(self, title, x_pos, y_pos)\n",
    "        self.width = width\n",
    "        self.height = height\n",
    "        self.title = title\n",
    "    def resize(self, new_width, new_height):   \n",
    "        # the base class attribute instance is NOT available\n",
    "        # title = super(Window, self).title\n",
    "        self.width = new_width\n",
    "        self.height = new_height\n",
    "        print(\"Window named: \", self.title, \"is resized\")\n",
    "              \n",
    "my_sizeable_window = Sizeable(\"Sizeable Window\", 200, 250, 50, 100)  \n",
    "my_sizeable_window.show(True)  \n",
    "my_sizeable_window.resize(60,110)      \n",
    "\n",
    "class Editable(Window):\n",
    "    def __init__(self, title, x_pos, y_pos, text):\n",
    "        Window.__init__(self, title, x_pos, y_pos)\n",
    "        self.title = title\n",
    "        self.text = text\n",
    "    def change_text(self, text):   \n",
    "        self.text = text\n",
    "        print(\"Window named: \", self.title, \"text changed\")\n",
    "        \n",
    "my_editable_window = Editable(\"Editable Window\", 200, 250, 'my text')  \n",
    "my_editable_window.show(True)  \n",
    "my_editable_window.change_text('different text')   \n",
    "\n",
    "class SizeableEditable(Sizeable, Editable): # in C++ both base classes would need to be 'virtual'\n",
    "    def __init__(self, title, x_pos, y_pos, width, height, text):\n",
    "        Sizeable.__init__(self, title, x_pos, y_pos, width, height)\n",
    "        Editable.__init__(self, title, x_pos, y_pos, text)\n",
    "    def do_something_special(self):\n",
    "        print('something special')\n",
    "        \n",
    "my_size_and_edit_window = SizeableEditable('size and edit', 50,50,60,60,'my text')\n",
    "my_size_and_edit_window.show(True)  # NOTE: *** the 'address' is unambiguous to my_size_and_edit_window            \n",
    "    "
   ]
  },
  {
   "cell_type": "code",
   "execution_count": 72,
   "metadata": {},
   "outputs": [
    {
     "name": "stdout",
     "output_type": "stream",
     "text": [
      "Welcome my son, welcome to the machine\n",
      "Where have you been?\n",
      "It's alright we know where you've been\n",
      "You've been in the pipeline, filling in time.\n"
     ]
    }
   ],
   "source": [
    "# IPY-IT1\n",
    "# example of Duck Typing and Iteration of a collection\n",
    "\n",
    "class Cylon(object):\n",
    "    def vocal(self, sing_this):            # implements this method to 'sing'\n",
    "        print(sing_this)\n",
    "\n",
    "class Human(object):\n",
    "    def vocal(self,sing_this):             # implements this method to 'sing'\n",
    "        print(sing_this)\n",
    "        \n",
    "class RecordingStudio(object):\n",
    "    def __init__(self, vocalists):\n",
    "        self.lines = \\                     # defines a collection of strings\n",
    "        ['Welcome my son, welcome to the machine', \n",
    "         'Where have you been?',\n",
    "         \"It's alright we know where you've been\",\n",
    "         \"You've been in the pipeline, filling in time.\"\n",
    "        ]\n",
    "        self.vocalists = vocalists\n",
    "    \n",
    "    def sing_part(self, vocalist, line):\n",
    "        vocalist.vocal(line)              # will call the 'sing' method on passed object\n",
    "        \n",
    "    def record_track(self):\n",
    "        iterator = iter(self.lines)       # create the iterator\n",
    "        for singer in self.vocalists:\n",
    "            self.sing_part(singer, next(iterator))\n",
    "    \n",
    "rehearsal = RecordingStudio([Cylon(), Human(), Human(), Cylon()])\n",
    "rehearsal.record_track()"
   ]
  },
  {
   "cell_type": "code",
   "execution_count": 82,
   "metadata": {},
   "outputs": [
    {
     "name": "stdout",
     "output_type": "stream",
     "text": [
      "collection length:  5\n",
      "True\n",
      "True\n"
     ]
    }
   ],
   "source": [
    "# IPY-IT2\n",
    "# container example\n",
    "\n",
    "class MyContainer:\n",
    "    def __init__(self, members):              # constructor\n",
    "        self.__members = members\n",
    "\n",
    "    def __contains__(self, member):           # 'in' clause\n",
    "        return member in self.__members\n",
    "\n",
    "    def __len__(self):                        # collection length\n",
    "        return len(self.__members)\n",
    "    \n",
    "\n",
    "languages = MyContainer(['C', 'C++', 'C#', 'Java', 'Python'])  # instantiate an instance of MyContainer\n",
    "\n",
    "collection_length = len(languages)                 # len method calls __len__ method on class\n",
    "print('collection length: ', collection_length)\n",
    "\n",
    "print('Python' in languages)                       # in and not in calls __contains__ method on class\n",
    "print('Fortran' not in languages)"
   ]
  },
  {
   "cell_type": "code",
   "execution_count": 13,
   "metadata": {},
   "outputs": [
    {
     "name": "stdout",
     "output_type": "stream",
     "text": [
      "[12, 35, 22]\n",
      "12\n",
      "35\n",
      "22\n",
      "getitem:  35\n",
      "35\n"
     ]
    }
   ],
   "source": [
    "# IPY-IT3\n",
    "# subclass the Python list collection\n",
    "\n",
    "class MyList(list):\n",
    "\n",
    "    def __init__(self, *args):\n",
    "        super(MyList, self).__init__(args[0])    # initialize the list class\n",
    "        \n",
    "    def __getitem__(self, item):                 # override the [index] operator\n",
    "        result = list.__getitem__(self, item)\n",
    "        print('getitem: ',result)\n",
    "        return result\n",
    "        \n",
    "a = MyList((12, 35, 22))\n",
    "print(a)\n",
    "for x in a:\n",
    "    print(x)                 # <--- note: used an iterator, not index position                   \n",
    "\n",
    "print(a[1])"
   ]
  },
  {
   "cell_type": "code",
   "execution_count": 102,
   "metadata": {},
   "outputs": [
    {
     "ename": "AttributeError",
     "evalue": "'MyMarkerClass' object has no attribute '_propdict'",
     "output_type": "error",
     "traceback": [
      "\u001b[1;31m---------------------------------------------------------------------------\u001b[0m",
      "\u001b[1;31mAttributeError\u001b[0m                            Traceback (most recent call last)",
      "\u001b[1;32m<ipython-input-102-77d91ef3ae86>\u001b[0m in \u001b[0;36m<module>\u001b[1;34m()\u001b[0m\n\u001b[0;32m     20\u001b[0m \u001b[0ma_marker\u001b[0m \u001b[1;33m=\u001b[0m \u001b[0mMyMarkerClass\u001b[0m\u001b[1;33m(\u001b[0m\u001b[1;33m)\u001b[0m\u001b[1;33m\u001b[0m\u001b[0m\n\u001b[0;32m     21\u001b[0m \u001b[1;33m\u001b[0m\u001b[0m\n\u001b[1;32m---> 22\u001b[1;33m \u001b[0mprint\u001b[0m\u001b[1;33m(\u001b[0m\u001b[0ma_marker\u001b[0m\u001b[1;33m.\u001b[0m\u001b[0m_propdict\u001b[0m\u001b[1;33m)\u001b[0m\u001b[1;33m\u001b[0m\u001b[0m\n\u001b[0m\u001b[0;32m     23\u001b[0m \u001b[1;33m\u001b[0m\u001b[0m\n\u001b[0;32m     24\u001b[0m \u001b[1;31m#issubclass(Robin, Bird)\u001b[0m\u001b[1;33m\u001b[0m\u001b[1;33m\u001b[0m\u001b[0m\n",
      "\u001b[1;31mAttributeError\u001b[0m: 'MyMarkerClass' object has no attribute '_propdict'"
     ]
    }
   ],
   "source": [
    "# maker interfaces\n",
    "# THERE ARE ABSOLUTELY INCOMPREHENSIBLE EXAMPLES OF THIS SCATTERED ON THE INTERNET \n",
    "# I believe they are typically used in serialization/deserialization of 'strongly-typed' containers\n",
    "\n",
    "from abc import ABCMeta\n",
    "\n",
    "class MyMarkerClass(metaclass=abc.ABCMeta):    \n",
    "    pass\n",
    "    \n",
    "    def an_important_method(self, private_key):\n",
    "        print(\"decrypted with: \", private_key)\n",
    "\n",
    "class MyClassCanDecrypt(object):\n",
    "    pass\n",
    "\n",
    "    def an_important_method(self, private_key):\n",
    "        print(\"decrypted with: \", private_key)\n",
    "\n",
    "MyMarkerClass.register(list)\n",
    "\n",
    "a_marker = MyMarkerClass()\n",
    "\n",
    "print(a_marker._propdict)\n",
    "\n",
    "#issubclass(Robin, Bird)\n",
    "#isinstance(r, Bird)"
   ]
  }
 ],
 "metadata": {
  "kernelspec": {
   "display_name": "Python 3",
   "language": "python",
   "name": "python3"
  },
  "language_info": {
   "codemirror_mode": {
    "name": "ipython",
    "version": 3
   },
   "file_extension": ".py",
   "mimetype": "text/x-python",
   "name": "python",
   "nbconvert_exporter": "python",
   "pygments_lexer": "ipython3",
   "version": "3.6.1"
  }
 },
 "nbformat": 4,
 "nbformat_minor": 2
}
